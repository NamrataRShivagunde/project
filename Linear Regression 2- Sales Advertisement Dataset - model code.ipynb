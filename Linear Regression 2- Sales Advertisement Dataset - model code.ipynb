{
 "cells": [
  {
   "cell_type": "code",
   "execution_count": 3,
   "metadata": {},
   "outputs": [
    {
     "data": {
      "text/plain": [
       "'C:\\\\Users\\\\namrata\\\\AI practice\\\\AI Projects'"
      ]
     },
     "execution_count": 3,
     "metadata": {},
     "output_type": "execute_result"
    }
   ],
   "source": [
    "import os\n",
    "os.getcwd()"
   ]
  },
  {
   "cell_type": "code",
   "execution_count": 4,
   "metadata": {},
   "outputs": [],
   "source": [
    "os.chdir(\"C:/Users/namrata/Desktop/projects/salesad\")"
   ]
  },
  {
   "cell_type": "code",
   "execution_count": 5,
   "metadata": {},
   "outputs": [
    {
     "data": {
      "text/plain": [
       "'C:\\\\Users\\\\namrata\\\\Desktop\\\\projects\\\\salesad'"
      ]
     },
     "execution_count": 5,
     "metadata": {},
     "output_type": "execute_result"
    }
   ],
   "source": [
    "os.getcwd()"
   ]
  },
  {
   "cell_type": "code",
   "execution_count": 6,
   "metadata": {},
   "outputs": [],
   "source": [
    "# Import the numpy and pandas package\n",
    "\n",
    "import numpy as np\n",
    "import pandas as pd\n",
    "import sklearn\n"
   ]
  },
  {
   "cell_type": "code",
   "execution_count": 7,
   "metadata": {},
   "outputs": [],
   "source": [
    "data = pd.read_csv('advertising.csv')\n",
    "X = data['TV']\n",
    "y = data['Sales']"
   ]
  },
  {
   "cell_type": "code",
   "execution_count": 8,
   "metadata": {},
   "outputs": [],
   "source": [
    "from sklearn.model_selection import train_test_split\n",
    "X, X_test, y, y_test = train_test_split(X, y, train_size = 0.7, test_size = 0.3, random_state = 100)"
   ]
  },
  {
   "cell_type": "code",
   "execution_count": 9,
   "metadata": {},
   "outputs": [
    {
     "data": {
      "text/plain": [
       "(140,)"
      ]
     },
     "execution_count": 9,
     "metadata": {},
     "output_type": "execute_result"
    }
   ],
   "source": [
    "X.shape"
   ]
  },
  {
   "cell_type": "code",
   "execution_count": 10,
   "metadata": {},
   "outputs": [
    {
     "data": {
      "text/plain": [
       "74     213.4\n",
       "3      151.5\n",
       "185    205.0\n",
       "26     142.9\n",
       "90     134.3\n",
       "Name: TV, dtype: float64"
      ]
     },
     "execution_count": 10,
     "metadata": {},
     "output_type": "execute_result"
    }
   ],
   "source": [
    "X.head()"
   ]
  },
  {
   "cell_type": "markdown",
   "metadata": {},
   "source": [
    "**Linear regression with Ordinary Least Square**"
   ]
  },
  {
   "cell_type": "code",
   "execution_count": 11,
   "metadata": {},
   "outputs": [],
   "source": [
    "def LinearRegressionOLS(X, y):\n",
    "    X= np.array(X)\n",
    "    y= np.array(y)\n",
    "    theta1 = ((X*y).mean()-X.mean()*y.mean())/((X**2).mean()- (X.mean()**2))\n",
    "    theta0 =y.mean() - theta1*X.mean()\n",
    "    return (theta0, theta1)"
   ]
  },
  {
   "cell_type": "code",
   "execution_count": 12,
   "metadata": {},
   "outputs": [],
   "source": [
    "result = LinearRegressionOLS(X,y)"
   ]
  },
  {
   "cell_type": "code",
   "execution_count": 13,
   "metadata": {},
   "outputs": [
    {
     "data": {
      "text/plain": [
       "(6.94868320000136, 0.054545752915907936)"
      ]
     },
     "execution_count": 13,
     "metadata": {},
     "output_type": "execute_result"
    }
   ],
   "source": [
    "result\n",
    "#result is same as part 1 where we used scikit learn and ols models"
   ]
  },
  {
   "cell_type": "markdown",
   "metadata": {},
   "source": [
    "**Linear regression with Normal Equation**\n"
   ]
  },
  {
   "cell_type": "code",
   "execution_count": 14,
   "metadata": {},
   "outputs": [],
   "source": [
    "def LinearRegressionNormalEquation(X, y):\n",
    "    X1= np.array(X)\n",
    "    #y= np.array(y)\n",
    "    n=len(X1)\n",
    "    X0 = np.ones((n,1))\n",
    "    X1 = np.reshape(X1,(n,1))\n",
    "    X=np.append(X0,X1, axis= 1)\n",
    "    theta = np.linalg.inv(X.T @ X) @ X.T @ y\n",
    "    return theta"
   ]
  },
  {
   "cell_type": "code",
   "execution_count": 15,
   "metadata": {},
   "outputs": [],
   "source": [
    "result = LinearRegressionNormalEquation(X,y)"
   ]
  },
  {
   "cell_type": "code",
   "execution_count": 16,
   "metadata": {},
   "outputs": [
    {
     "data": {
      "text/plain": [
       "array([6.9486832 , 0.05454575])"
      ]
     },
     "execution_count": 16,
     "metadata": {},
     "output_type": "execute_result"
    }
   ],
   "source": [
    "result"
   ]
  },
  {
   "cell_type": "markdown",
   "metadata": {},
   "source": [
    "**Linear regression with Gradient Descent**"
   ]
  },
  {
   "cell_type": "code",
   "execution_count": 47,
   "metadata": {},
   "outputs": [],
   "source": [
    "def LinearRegressionGradientDescent(X, y, learning_rate,epochs):\n",
    "    \n",
    "    #m is number of datapoints, n is number of features in X\n",
    "    X1=np.array(X)\n",
    "    n0=len(X1)\n",
    "    X0 = np.ones((n0,1))\n",
    "    X1 = np.reshape(X1,(n0,1))\n",
    "    X=np.append(X0,X1, axis= 1)\n",
    "    \n",
    "    y = np.array(y)\n",
    "    m,n = np.shape(X)\n",
    "    theta = np.random.rand(2)\n",
    "\n",
    "    for i in range(0,epochs):\n",
    "        hypothesis = X @ theta\n",
    "        loss = hypothesis - y\n",
    "        cost = (2/m)*np.sum(loss**2)\n",
    "        theta = theta - ((learning_rate/m) * np.sum(X.T @ loss ) )\n",
    "        print(\"theta  :\",theta,\"   cost  :\",cost)\n",
    "    return theta"
   ]
  },
  {
   "cell_type": "code",
   "execution_count": 50,
   "metadata": {},
   "outputs": [
    {
     "name": "stdout",
     "output_type": "stream",
     "text": [
      "theta  : [-1.39656953 -1.474916  ]    cost  : 35071.59174731842\n",
      "theta  : [3.39681317 3.3184667 ]    cost  : 149830.80705971105\n",
      "theta  : [-6.51475971 -6.59310619]    cost  : 640499.6931907879\n",
      "theta  : [13.98001053 13.90166405]    cost  : 2738422.332010997\n",
      "theta  : [-28.39828926 -28.47663573]    cost  : 11708380.53168091\n"
     ]
    }
   ],
   "source": [
    "result = LinearRegressionGradientDescent(X, y, 0.0001,5)"
   ]
  },
  {
   "cell_type": "code",
   "execution_count": 25,
   "metadata": {},
   "outputs": [
    {
     "data": {
      "text/plain": [
       "array([2.09520462e+29])"
      ]
     },
     "execution_count": 25,
     "metadata": {},
     "output_type": "execute_result"
    }
   ],
   "source": [
    "result"
   ]
  }
 ],
 "metadata": {
  "kernelspec": {
   "display_name": "Python 3",
   "language": "python",
   "name": "python3"
  },
  "language_info": {
   "codemirror_mode": {
    "name": "ipython",
    "version": 3
   },
   "file_extension": ".py",
   "mimetype": "text/x-python",
   "name": "python",
   "nbconvert_exporter": "python",
   "pygments_lexer": "ipython3",
   "version": "3.6.8"
  }
 },
 "nbformat": 4,
 "nbformat_minor": 2
}
